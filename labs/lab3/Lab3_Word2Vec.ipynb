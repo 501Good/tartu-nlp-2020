{
 "cells": [
  {
   "cell_type": "markdown",
   "metadata": {},
   "source": [
    "# Lab 3. Word Embeddings\n",
    "\n",
    "Word embeddings is a way to represent the meaning of the word as a dense vector. This vector usually contains some real numbers. How do we get these numbers and what we can do with them?\n",
    "\n",
    "The idea of learning those word representations is very simple yet increadibly smart. I was first introduced in [Mikolov, T., Chen, K., Corrado, G., & Dean, J. (2013). Efficient estimation of word representations in vector space. arXiv preprint arXiv:1301.3781.](https://arxiv.org/pdf/1301.3781.pdf).\n",
    "\n",
    "The main idea of the algorithm can be described by a short quote by an English linguist, John Rupert Firth: \"You shall know a word by the company it keeps\". Indeed, Word2Vec is based on the [distributional semantics](https://en.wikipedia.org/wiki/Distributional_semantics), which main idea is that \"linguistic items with similar distributions have similar meanings.\"\n",
    "\n",
    "In the first paper, the authors proposed two models: CBOW and skip-gram. The first, CBOW model, which stands for continuous bag of words, tries to predict the central word given its left and right contexts. SkipGram model, on the other hand, tries to predict the context given the central word. You can see the schematic view of the models on the picture below.\n",
    "\n",
    "<img src=\"word2vec_architectures.png\">\n",
    "\n",
    "But what is the central word and where do we get the context for it? This is simple. You just take a plain text and slide a window of some size across each sentence. Then, the word that is in the center of this window is your central word and all the other words on the periphery are your contexts. \n",
    "\n",
    "Let's see the example. Say, you have a sentence: \"My cat likes eating fish and drinking milk.\" and you choose the size of your sliding window to be five. Let's build the dataset from this sentence:\n",
    "\n",
    "[**My** *cat likes*] eating fish and drinking milk -> central word - \"My\"; left context - None; right context - \"cat\", \"likes\"\n",
    "\n",
    "[*My* **cat** *likes eating*] fish and drinking milk -> central word - \"cat\"; left context - \"My\"; right context - \"likes\", \"eating\"\n",
    "\n",
    "[*My cat* **likes** *eating fish*] and drinking milk -> central word - \"likes\"; left context - \"My\", \"cat\"; right context - \"eating\", \"fish\"\n",
    "\n",
    "My [*cat likes* **eating** *fish and*] drinking milk -> central word - \"eating\"; left context - \"cat\", \"likes\"; right context - \"fish\", \"and\"\n",
    "\n",
    "My cat [*likes eating* **fish** *and drinking*] milk -> central word - \"fish\"; left context - \"likes\", \"eating\"; right context - \"and\", \"drinking\"\n",
    "\n",
    "My cat likes [*eating fish* **and** *drinking milk*] -> central word - \"and\"; left context - \"eating\", \"fish\"; right context - \"drinking\", \"milk\"\n",
    "\n",
    "My cat likes eating [*fish and* **drinking** *milk*] -> central word - \"drinking\"; left context - \"fish\", \"and\"; right context - \"milk\"\n",
    "\n",
    "My cat likes eating fish [*and drinking* **milk**] -> central word - \"milk\"; left context - \"and\", \"drinking\"; right context - None\n",
    "\n",
    "In this lab, we are going to continue with skip-gram model. You can apply all of the following in reverse order to get a CBOW model. The practical difference between the two models is stated as \"skip-gram (slower, better for infrequent words) vs CBOW (fast)\" on the [official code page of word2vec](https://code.google.com/archive/p/word2vec/).\n",
    "\n",
    "The training goal of the original skip-gram model is to minimize the following objective funtion:\n",
    "\n",
    "$$\n",
    "\\begin{align}\n",
    "\\text{minimize } J & = -\\log P(w_{c-m}, ..., w_{c-1}, w_{c+1}, ..., w_{c+m}|w_c)\\\\\n",
    "& = -\\log\\prod_{j=0, j \\neq m}^{2m}P(w_{c-m+j}|w_c)\\\\\n",
    "& = -\\log\\prod_{j=0, j \\neq m}^{2m}P(u_{c-m+j}|v_c)\\\\\n",
    "& = -\\log\\prod_{j=0, j \\neq m}^{2m}\\frac{exp(u^T_{c-m+j}v_c)}{\\sum^{|V|}_{k=1} exp(u^T_k v_c)}\\\\\n",
    "& = -\\sum_{j=0, j \\neq m}^{2m}u^T_{c-m+j}v_c + 2m\\log\\sum^{|V|}_{k=1} exp(u^T_k v_c)\n",
    "\\end{align}\n",
    "$$\n",
    "\n",
    "where\n",
    "\n",
    "$$\n",
    "w_i: \\text{Word } i \\text{ from vocabulary } V\\\\\n",
    "\\mathcal{V} \\in \\mathbb{R}^{n \\times |V|}: \\text{ Input word matrix}\\\\\n",
    "v_i: i \\text{-th column of } \\mathcal{V} \\text{, the input vector representation of word } w_i\\\\\n",
    "\\mathcal{U} \\in \\mathbb{R}^{n \\times |V|}: \\text{ Output word matrix}\\\\\n",
    "u_i: i \\text{-th row of } \\mathcal{U} \\text{, the output vector representation of word } w_i\n",
    "$$\n",
    "\n",
    "If we look at the objective function above, we can notice that we are summing over *|V|* which is computationally huge. To overcome this issue, the authors proposed a new method called **negative sampling** in [Mikolov, T., Sutskever, I., Chen, K., Corrado, G. S., & Dean, J. (2013). Distributed representations of words and phrases and their compositionality. In Advances in neural information processing systems (pp. 3111-3119).](http://papers.nips.cc/paper/5021-distributed-representations-of-words-and-phrases-and-their-compositionality.pdf) \n",
    "\n",
    "The main idea of the negative sampling is that instead of predicting all the words in out vocabulary *|V|*, predict only the words that are really in the context of the central word and some small number of randomly chosen words that are not in the context of the central word. Thus, we change the learning objective from multiclass classification to a binary classification since now the model only has to predict whether the word is in the context or not.\n",
    "\n",
    "The probability that the pair (word, context) came from the corpus data will be:\n",
    "\n",
    "$$\n",
    "P(D = 1 | w, c, \\theta) = \\frac{1}{1 + e^{(-v^T_c v_w)}}\n",
    "$$\n",
    "\n",
    "Now, the new objective function tries to maximize the probability of a word and context being in the corpus data if it indeed is, and maximize the probability of a word and context not being in the corpus data if it indeed is not.\n",
    "\n",
    "$$\n",
    "\\begin{align}\n",
    "\\theta & = \\underset{\\theta}{\\arg\\max} \\prod_{(w, c) \\in D} P(D = 1 | w, c, \\theta) \\prod_{(w, c) \\in \\tilde{D}} P(D = 1 | w, c, \\theta)\\\\\n",
    "& = \\underset{\\theta}{\\arg\\max} \\prod_{(w, c) \\in D} P(D = 1 | w, c, \\theta) \\prod_{(w, c) \\in \\tilde{D}} (1 - P(D = 1 | w, c, \\theta))\\\\\n",
    "& = \\underset{\\theta}{\\arg\\max} \\sum_{(w, c) \\in D} \\log P(D = 1 | w, c, \\theta) + \\sum_{(w, c) \\in \\tilde{D}} \\log (1 - P(D = 1 | w, c, \\theta))\\\\\n",
    "& = \\underset{\\theta}{\\arg\\max} \\sum_{(w, c) \\in D} \\log \\frac{1}{1 + e^{(-u^T_w v_c)}} + \\sum_{(w, c) \\in \\tilde{D}} \\log (1 - \\frac{1}{1 + e^{(-u^T_w v_c)}})\\\\\n",
    "& = \\underset{\\theta}{\\arg\\max} \\sum_{(w, c) \\in D} \\log \\frac{1}{1 + e^{(-u^T_w v_c)}} + \\sum_{(w, c) \\in \\tilde{D}} \\log \\frac{1}{1 + e^{(u^T_w v_c)}}\n",
    "\\end{align}\n",
    "$$\n",
    "\n",
    "Since maximizing the likelihood is the same as minimizing the negative log likelihood, the new objective function for negative sampling is:\n",
    "\n",
    "$$\n",
    "J = - \\sum_{(w, c) \\in D} \\log \\frac{1}{1 + e^{(-u^T_w v_c)}} - \\sum_{(w, c) \\in \\tilde{D}} \\log \\frac{1}{1 + e^{(u^T_w v_c)}}\n",
    "$$\n",
    "\n",
    "They also proposed **subsampling of frequent words** that reduce the number of training samples and improves the overall model quality as well. The subsampling is aimed to throw away very frequent words from the training set.\n",
    "\n",
    "Finally, we know how to train the model. But we still didn't answer the question where do the word embeddings come from. In fact, we are not interested in predicting the next word. What we are interested in is the our hidden layer, which is the weight matrix. The rows of the matrix are actually the embeddings that we are looking for. \n",
    "\n",
    "The intuition behind it that the model learns these weights to predict the next word, thus these weights somehow capture the meaning of the word.\n",
    "\n",
    "The pytorch implementation and usage examples of the algorithm can be found below."
   ]
  },
  {
   "cell_type": "code",
   "execution_count": 8,
   "metadata": {},
   "outputs": [],
   "source": [
    "import torch\n",
    "from torch.utils.data import Dataset, DataLoader\n",
    "import torch.nn as nn\n",
    "import torch.nn.functional as F\n",
    "from torch.nn import init\n",
    "import torch.optim as optim\n",
    "\n",
    "import numpy as np\n",
    "from sklearn.manifold import TSNE\n",
    "from collections import Counter\n",
    "from tqdm.notebook import tqdm\n",
    "\n",
    "import matplotlib.pyplot as plt\n",
    "import matplotlib.cm as cm\n",
    "%matplotlib inline"
   ]
  },
  {
   "cell_type": "code",
   "execution_count": 2,
   "metadata": {},
   "outputs": [],
   "source": [
    "NEGATIVE_TABLE_SIZE = 1e8\n",
    "\n",
    "class Word2VecDataReader:\n",
    "    def __init__(self, input_filename, min_count):\n",
    "        self.id2unit = {}\n",
    "        self.unit2id = {}\n",
    "        self.token_count = 0\n",
    "        self.word_frequency = Counter()\n",
    "        self.lines = []\n",
    "\n",
    "        self._negatives = []\n",
    "        self._discrads = []\n",
    "\n",
    "        self.input_filename = input_filename\n",
    "        self._init_vocab(min_count)\n",
    "        self._init_negatives()\n",
    "        self._init_discards()\n",
    "    \n",
    "\n",
    "    def _init_vocab(self, min_count):\n",
    "        \"\"\"Reads all the words from the data.\"\"\"\n",
    "\n",
    "        word_frequency = Counter()\n",
    "        for line in open(self.input_filename, encoding='utf-8', errors='ignore'):\n",
    "            words = line.split()\n",
    "            if len(words) > 1:\n",
    "                self.lines.append(words)\n",
    "                for word in words:\n",
    "                    if word:\n",
    "                        self.token_count += 1\n",
    "                        word_frequency[word] += 1\n",
    "\n",
    "        word_frequency = {k: v for k, v in word_frequency.items() if v > min_count}\n",
    "        for idx, (word, count) in enumerate(word_frequency.items()):\n",
    "            self.unit2id[word] = idx\n",
    "            self.id2unit[idx] = word\n",
    "            self.word_frequency[idx] = count\n",
    "        \n",
    "        print(\"Total words:\", len(self.unit2id))\n",
    "\n",
    "    \n",
    "    def _init_negatives(self):\n",
    "        \"\"\"Initializes the table of negatives.\"\"\"\n",
    "\n",
    "        # Frequency for each word to the power of 0.75\n",
    "        # Hint: use our self.word_frequency dict\n",
    "        word_frequency = np.array(list(self.word_frequency.values())) ** 0.75\n",
    "\n",
    "        # Sum of all word frequencies\n",
    "        total_word_frequency = np.sum(word_frequency)\n",
    "\n",
    "        # Probabilites for the negative sampling table\n",
    "        word_probabilities = word_frequency / total_word_frequency\n",
    "\n",
    "        # Initialize the negatives table\n",
    "        counts = np.round(word_probabilities * NEGATIVE_TABLE_SIZE)\n",
    "        for idx, count in enumerate(counts):\n",
    "            self._negatives += [idx] * int(count)\n",
    "        self._negatives = np.array(self._negatives)\n",
    "        np.random.shuffle(self._negatives)\n",
    "\n",
    "    \n",
    "    def _init_discards(self):\n",
    "        \"\"\"Initializes the table of discards for subsampling.\"\"\"\n",
    "\n",
    "        t = 1e-5\n",
    "        f = np.array(list(self.word_frequency.values())) / self.token_count\n",
    "        self._discrads = np.sqrt(t / f) + (t / f)\n",
    "\n",
    "\n",
    "    def get_negatives(self, target, size):\n",
    "        \"\"\"Chooses the negative examples for the target word.\"\"\"\n",
    "\n",
    "        negatives = []\n",
    "        while len(negatives) < size:\n",
    "            random_idx = np.random.randint(0, NEGATIVE_TABLE_SIZE)\n",
    "            negative = self._negatives[random_idx]\n",
    "            if negative not in negatives and negative != target:\n",
    "                negatives.append(negative)\n",
    "        return np.array(negatives)"
   ]
  },
  {
   "cell_type": "code",
   "execution_count": 3,
   "metadata": {},
   "outputs": [],
   "source": [
    "class Word2VecDataset(Dataset):\n",
    "    def __init__(self, data, window_size, negative_size):\n",
    "        self.data = data\n",
    "        self.window_size = window_size\n",
    "        self.negative_size = negative_size      \n",
    "\n",
    "    \n",
    "    def __len__(self):\n",
    "        return len(self.data.lines)\n",
    "\n",
    "    \n",
    "    def __getitem__(self, idx):\n",
    "        words = self.data.lines[idx]\n",
    "        word_ids = [self.data.unit2id[word] for word in words if\n",
    "                    word in self.data.unit2id and \n",
    "                    np.random.rand() < self.data._discrads[self.data.unit2id[word]]]\n",
    "        \n",
    "        return [(u, v, self.data.get_negatives(v, self.negative_size)) for i, u in enumerate(word_ids)\n",
    "                for v in word_ids[max(i - self.window_size, 0):i + self.window_size] if u != v]\n",
    "\n",
    "    \n",
    "    @staticmethod\n",
    "    def collate(batches):\n",
    "        pos_u = [u for batch in batches for u, _, _ in batch if len(batch) > 0]\n",
    "        pos_v = [v for batch in batches for _, v, _ in batch if len(batch) > 0]\n",
    "        neg_v = [neg_v for batch in batches for _, _, neg_v in batch if len(batch) > 0]\n",
    "\n",
    "        return torch.LongTensor(pos_u), torch.LongTensor(pos_v), torch.LongTensor(neg_v)"
   ]
  },
  {
   "cell_type": "code",
   "execution_count": 4,
   "metadata": {},
   "outputs": [],
   "source": [
    "class SkipGramModel(nn.Module):\n",
    "\n",
    "    def __init__(self, emb_size, emb_dim):\n",
    "        super(SkipGramModel, self).__init__()\n",
    "        self.emb_dim = emb_dim\n",
    "\n",
    "        # Create two embedding layers with nn.Embedding\n",
    "        # Hint: use emb_size and emb_dim as parameters\n",
    "        self.u_emb = nn.Embedding(emb_size, emb_dim, sparse=True)\n",
    "        self.v_emb = nn.Embedding(emb_size, emb_dim, sparse=True)\n",
    "\n",
    "        # Initialize the weights for better training\n",
    "        initrange = 1.0 / emb_dim\n",
    "        init.uniform_(self.u_emb.weight.data, -initrange, initrange)\n",
    "        init.constant_(self.v_emb.weight.data, 0)\n",
    "    \n",
    "    def forward(self, pos_u, pos_v, neg_v):\n",
    "        emb_pos_u = self.u_emb(pos_u)\n",
    "        emb_pos_v = self.v_emb(pos_v)\n",
    "        emb_neg_v = self.v_emb(neg_v)\n",
    "\n",
    "        # Complete the objective function for the skip-gram model\n",
    "\n",
    "        # Multiply emb_pos_u and emb_pos_v and take sum for it\n",
    "        # Hint: use torch.mul() and torch.sum()\n",
    "        score = torch.sum(torch.mul(emb_pos_u, emb_pos_v), dim=1)\n",
    "        # Clamp the score for better training\n",
    "        score = torch.clamp(score, max=10, min=-10)\n",
    "\n",
    "        # Take the negative logsigmoid of the score\n",
    "        # Hint: use F.logsigmoid()\n",
    "        score = -F.logsigmoid(score)\n",
    "\n",
    "        # Multiply emb_neg_v and emb_pos_u \n",
    "        # Hint: use torch.bmm this time as well as squeese() and unsqueese() to match the dimensions\n",
    "        neg_score = torch.bmm(emb_neg_v, emb_pos_u.unsqueeze(2)).squeeze()\n",
    "\n",
    "        # Sum the neg_score\n",
    "        neg_score = torch.sum(neg_score, dim=1)\n",
    "\n",
    "        # Clamp the neg_score for better training\n",
    "        neg_score = torch.clamp(neg_score, max=10, min=-10)\n",
    "\n",
    "        # Take the negative logsigmoid of the -neg_score\n",
    "        neg_score = -F.logsigmoid(-neg_score)\n",
    "\n",
    "        return torch.mean(score + neg_score)\n",
    "\n",
    "    \n",
    "    def save_embedding(self, id2word, file_name):\n",
    "        embedding = self.u_emb.weight.cpu().data.numpy()\n",
    "        with open(file_name, 'w') as f:\n",
    "            f.write('%d %d\\n' % (len(id2word), self.emb_dim))\n",
    "            for wid, w in id2word.items():\n",
    "                e = ' '.join(map(lambda x: str(x), embedding[wid]))\n",
    "                f.write('%s %s\\n' % (w, e))"
   ]
  },
  {
   "cell_type": "code",
   "execution_count": 10,
   "metadata": {},
   "outputs": [],
   "source": [
    "class Word2VecTrainer:\n",
    "    def __init__(self, input_file, output_file, emb_dim=100, batch_size=32, window_size=5,\n",
    "                negative_size=5, iters=3, initial_lr=0.001, min_count=12):\n",
    "\n",
    "        self.data = Word2VecDataReader(input_file, min_count)\n",
    "        dataset = Word2VecDataset(self.data, window_size, negative_size)\n",
    "        self.dataloader = DataLoader(dataset, batch_size=batch_size,\n",
    "                                     shuffle=False, num_workers=0, collate_fn=dataset.collate)\n",
    "\n",
    "        self.output_file_name = output_file\n",
    "        self.emb_size = len(self.data.unit2id)\n",
    "        self.emb_dim = emb_dim\n",
    "        self.batch_size = batch_size\n",
    "        self.iters = iters\n",
    "        self.initial_lr = initial_lr\n",
    "        self.skip_gram_model = SkipGramModel(self.emb_size, self.emb_dim)\n",
    "\n",
    "        self.use_cuda = torch.cuda.is_available()\n",
    "        self.device = torch.device(\"cuda\" if self.use_cuda else \"cpu\")\n",
    "        if self.use_cuda:\n",
    "            self.skip_gram_model.cuda()\n",
    "\n",
    "    def train(self):\n",
    "\n",
    "        for it in range(self.iters):\n",
    "\n",
    "            print(\"Iteration: \" + str(it + 1))\n",
    "\n",
    "            # Use SparseAdam optimiser\n",
    "            optimizer = optim.SparseAdam(self.skip_gram_model.parameters(), lr=self.initial_lr)\n",
    "\n",
    "            for sample_batched in tqdm(self.dataloader):\n",
    "\n",
    "                if len(sample_batched[0]) > 1:\n",
    "                    pos_u = sample_batched[0].to(self.device)\n",
    "                    pos_v = sample_batched[1].to(self.device)\n",
    "                    neg_v = sample_batched[2].to(self.device)\n",
    "\n",
    "                    # Clear the accumulated gradient for the optimiser\n",
    "                    # Hint: Use .zero_grad() \n",
    "                    optimizer.zero_grad()\n",
    "\n",
    "                    # Perform a forward pass of our model\n",
    "                    loss = self.skip_gram_model(pos_u, pos_v, neg_v)\n",
    "\n",
    "                    # Compute derivative of the loss\n",
    "                    loss.backward()\n",
    "\n",
    "                    # Update the optimizer\n",
    "                    optimizer.step()\n",
    "\n",
    "            self.skip_gram_model.save_embedding(self.data.id2unit, self.output_file_name)"
   ]
  },
  {
   "cell_type": "code",
   "execution_count": 6,
   "metadata": {},
   "outputs": [],
   "source": [
    "class Word2VecLoader:\n",
    "    def __init__(self):\n",
    "        self.embeddings = None\n",
    "        self.norm_embeddings = None\n",
    "        self.unit2id = {}\n",
    "        self.id2unit = {}\n",
    "\n",
    "\n",
    "    def load_vectors_from_file(self, vec_file, keep_original=False):\n",
    "        with open(vec_file, encoding='utf-8', errors='ignore') as f:\n",
    "            stats = f.readline().strip().split()\n",
    "            num_emb, emb_dim = int(stats[0]), int(stats[1])\n",
    "            weights = torch.zeros((num_emb, emb_dim), dtype=torch.float32)\n",
    "            print(f'Loading {num_emb} embeddings with the dimension of {emb_dim}')\n",
    "            idx = 0\n",
    "            for line in tqdm(f, total=num_emb):\n",
    "                line = line.strip().split()\n",
    "                word = ' '.join(line[:-emb_dim])\n",
    "                vec = torch.FloatTensor([float(x) for x in line[-emb_dim:]])\n",
    "                self.unit2id[word] = idx\n",
    "                self.id2unit[idx] = word\n",
    "                weights[idx, :] = vec\n",
    "                idx += 1\n",
    "        \n",
    "        if keep_original:\n",
    "            self.embeddings = nn.Embedding.from_pretrained(weights, freeze=True)\n",
    "        self.norm_embeddings = nn.Embedding.from_pretrained(F.normalize(weights), freeze=True)\n",
    "\n",
    "\n",
    "    def get_vector(self, word):\n",
    "        if self.embeddings:\n",
    "            idx = torch.LongTensor([self.unit2id[word]])\n",
    "            return self.embeddings(idx)\n",
    "        else:\n",
    "            raise ValueError('Load the vector file first!')\n",
    "\n",
    "\n",
    "    def get_norm_vector(self, word):\n",
    "        if self.norm_embeddings:\n",
    "            idx = torch.LongTensor([self.unit2id[word]])\n",
    "            return self.norm_embeddings(idx).squeeze()\n",
    "        else:\n",
    "            raise ValueError('Load the vector file first!')\n",
    "\n",
    "\n",
    "    def get_similarity(self, word1, word2):\n",
    "        \"\"\"Computes the cosine similarity between two word vectors.\"\"\"\n",
    "\n",
    "        return torch.matmul(self.get_norm_vector(word1), self.get_norm_vector(word2))\n",
    "\n",
    "    \n",
    "    def get_most_similar(self, positive=None, negative=None, k=10):\n",
    "        \"\"\"Returns topk most similar words to the mean of positives and negatives.\"\"\"\n",
    "        \n",
    "        if positive is None:\n",
    "            positive = []\n",
    "        if negative is None:\n",
    "            negative = []\n",
    "\n",
    "        positive = [(word, 1.0) for word in positive]\n",
    "        negative = [(word, -1.0) for word in negative]\n",
    "\n",
    "        mean = []\n",
    "        for word, weight in positive + negative:\n",
    "            mean.append(weight * self.get_norm_vector(word))\n",
    "\n",
    "        if not mean:\n",
    "            raise ValueError(\"Cannot compute similarity with no input\")\n",
    "\n",
    "        mean = torch.stack(mean)\n",
    "        mean = torch.mean(mean, dim=0, dtype=torch.float32)\n",
    "\n",
    "        dists = torch.matmul(self.norm_embeddings.weight, mean)\n",
    "        topk_dists, topk_idx = torch.topk(dists, k+1, largest=True, sorted=True)\n",
    "        topk_words = [self.id2unit[i.item()] for i in topk_idx]\n",
    "        return (topk_words[1:], topk_dists[1:])"
   ]
  },
  {
   "cell_type": "code",
   "execution_count": 12,
   "metadata": {},
   "outputs": [
    {
     "name": "stdout",
     "output_type": "stream",
     "text": [
      "Total words: 519\n",
      "Iteration: 1\n"
     ]
    },
    {
     "data": {
      "application/vnd.jupyter.widget-view+json": {
       "model_id": "a4a8d622c4314e43b7a4e50af75b142e",
       "version_major": 2,
       "version_minor": 0
      },
      "text/plain": [
       "HBox(children=(IntProgress(value=0, max=176), HTML(value='')))"
      ]
     },
     "metadata": {},
     "output_type": "display_data"
    },
    {
     "name": "stdout",
     "output_type": "stream",
     "text": [
      "\n",
      "Iteration: 2\n"
     ]
    },
    {
     "data": {
      "application/vnd.jupyter.widget-view+json": {
       "model_id": "55d59e22d5684bfeaa00d997ab104242",
       "version_major": 2,
       "version_minor": 0
      },
      "text/plain": [
       "HBox(children=(IntProgress(value=0, max=176), HTML(value='')))"
      ]
     },
     "metadata": {},
     "output_type": "display_data"
    },
    {
     "name": "stdout",
     "output_type": "stream",
     "text": [
      "\n",
      "Iteration: 3\n"
     ]
    },
    {
     "data": {
      "application/vnd.jupyter.widget-view+json": {
       "model_id": "555facbd5588414bab1026d6fabe7f48",
       "version_major": 2,
       "version_minor": 0
      },
      "text/plain": [
       "HBox(children=(IntProgress(value=0, max=176), HTML(value='')))"
      ]
     },
     "metadata": {},
     "output_type": "display_data"
    },
    {
     "name": "stdout",
     "output_type": "stream",
     "text": [
      "\n"
     ]
    }
   ],
   "source": [
    "w2v_trainer = Word2VecTrainer(input_file=\"input.txt\", output_file=\"out.vec\")\n",
    "w2v_trainer.train()"
   ]
  },
  {
   "cell_type": "markdown",
   "metadata": {},
   "source": [
    "To test the usage, you will need to download the [FastText word vectors](https://fasttext.cc/docs/en/english-vectors.html)."
   ]
  },
  {
   "cell_type": "code",
   "execution_count": 2,
   "metadata": {},
   "outputs": [],
   "source": [
    "w2v = Word2VecLoader()"
   ]
  },
  {
   "cell_type": "code",
   "execution_count": 3,
   "metadata": {},
   "outputs": [
    {
     "name": "stdout",
     "output_type": "stream",
     "text": [
      "Loading 999994 embeddings with the dimension of 300\n"
     ]
    },
    {
     "name": "stderr",
     "output_type": "stream",
     "text": [
      "100%|████████████████████████████████████████████████████████████████████████| 999994/999994 [02:02<00:00, 8130.79it/s]\n"
     ]
    }
   ],
   "source": [
    "w2v.load_vectors_from_file('wiki-news-300d-1M.vec', keep_original=True)"
   ]
  },
  {
   "cell_type": "code",
   "execution_count": 12,
   "metadata": {},
   "outputs": [
    {
     "data": {
      "text/plain": [
       "tensor([[ 6.5200e-02, -3.4000e-03, -3.5300e-02, -1.0720e-01, -6.6200e-02,\n",
       "          9.1300e-02, -1.0200e-02, -7.0400e-02, -1.4510e-01,  1.0330e-01,\n",
       "         -3.6400e-02,  6.2200e-02, -1.3560e-01, -1.0880e-01, -2.5600e-02,\n",
       "          6.9200e-02,  8.1000e-03,  2.4900e-02, -4.4000e-02,  5.8900e-02,\n",
       "         -4.0300e-02,  6.0400e-02, -2.2900e-02,  1.5230e-01, -1.1080e-01,\n",
       "         -6.7800e-02,  2.3600e-02, -4.7600e-02,  7.1700e-02, -5.1000e-02,\n",
       "          9.1000e-03, -1.8000e-03,  1.6690e-01, -5.8000e-03,  1.9600e-02,\n",
       "         -1.1000e-03, -6.0000e-03, -1.4700e-02, -5.6200e-02, -7.8000e-03,\n",
       "          1.1480e-01,  2.2000e-02, -1.3650e-01, -1.5030e-01, -5.5400e-02,\n",
       "         -9.3500e-02,  1.4400e-02, -1.3910e-01, -2.3900e-02, -3.1000e-02,\n",
       "         -2.7500e-02,  2.4600e-02, -6.4950e-01, -2.3000e-03,  1.2100e-02,\n",
       "         -7.4800e-02, -1.2480e-01, -1.1100e-02, -1.4150e-01, -1.9600e-02,\n",
       "         -1.0770e-01, -6.7100e-02, -9.3300e-02, -4.0700e-02, -2.8100e-02,\n",
       "         -2.7250e-01,  1.0350e-01,  4.6100e-02,  3.1000e-02,  1.5900e-02,\n",
       "         -6.6500e-02, -2.2800e-02, -3.0600e-02, -1.6640e-01, -2.3100e-02,\n",
       "          1.8000e-03, -1.4800e-02,  6.0000e-03,  7.7000e-02,  1.2820e-01,\n",
       "         -2.7800e-02,  1.2290e-01, -4.9500e-02, -1.4870e-01,  2.2200e-02,\n",
       "         -1.4600e-01, -1.0400e-02, -9.8400e-02,  2.9720e-01,  9.9700e-02,\n",
       "          1.0530e-01,  7.4900e-02,  4.9000e-02, -6.4200e-02, -2.7300e-02,\n",
       "         -8.2400e-02, -8.3000e-03,  6.2300e-02,  1.5000e-03,  1.8300e-02,\n",
       "         -1.5520e-01, -6.7700e-02, -1.4310e-01, -1.3430e-01, -6.3300e-02,\n",
       "         -2.9100e-02, -2.2500e-02,  1.8700e-02, -1.7670e-01, -1.8570e-01,\n",
       "         -6.1400e-02,  6.6000e-02,  8.2200e-02,  5.1500e-02,  5.3800e-02,\n",
       "          9.2700e-02, -8.1800e-02,  1.4500e-02, -5.9000e-02, -2.4670e-01,\n",
       "          3.6000e-02,  6.8000e-03, -5.5300e-02,  4.9400e-02,  9.4900e-02,\n",
       "          1.8860e-01,  7.1300e-02,  2.8700e-02, -1.1000e-02, -1.1100e-02,\n",
       "         -3.8000e-02, -1.1000e-02,  4.6800e-02, -9.9400e-02, -4.0600e-02,\n",
       "          1.0620e-01,  1.1800e-02, -1.5130e-01,  4.5500e-02, -1.5200e-02,\n",
       "         -6.7000e-03,  4.4600e-02, -1.1300e-02,  1.0530e-01, -4.7100e-02,\n",
       "          5.4500e-02,  3.5400e-02,  1.3060e-01,  6.5700e-02,  3.2200e-02,\n",
       "          1.6930e-01,  1.5100e-02, -6.8700e-02, -1.2500e-02, -9.5700e-02,\n",
       "         -8.7000e-03,  4.8200e-02,  2.2900e-02,  4.4000e-02, -1.3100e-02,\n",
       "         -4.9700e-02,  7.1700e-02,  8.4800e-02,  1.1910e-01,  3.2800e-02,\n",
       "          1.2110e-01,  7.8100e-02, -8.0900e-02,  2.1000e-03,  1.6100e-02,\n",
       "         -1.4210e-01, -3.6600e-02, -1.5180e-01,  1.0920e-01,  1.0180e-01,\n",
       "         -4.7700e-02,  2.0720e-01, -2.9370e-01, -1.1700e-02, -1.6300e-02,\n",
       "         -9.9000e-03,  6.1200e-02, -4.5100e-02, -5.0000e-04,  2.3400e-02,\n",
       "         -9.1300e-02,  1.2400e-02, -3.7000e-02, -1.6990e-01, -7.8900e-02,\n",
       "         -7.6900e-02, -1.9610e-01,  7.5800e-02,  1.2710e-01,  5.6400e-02,\n",
       "          6.9400e-02,  7.2000e-02, -8.2800e-02,  1.5330e-01, -5.4100e-02,\n",
       "         -4.1100e-02, -5.3000e-02,  1.4050e-01,  5.5600e-02,  1.4260e-01,\n",
       "          8.9400e-02,  1.9240e-01, -1.5010e-01,  2.6800e-02,  1.9280e-01,\n",
       "          5.2400e-02, -1.1900e-02, -5.8300e-02, -1.2480e-01, -3.7300e-02,\n",
       "         -1.5000e-03, -5.9700e-02, -5.4300e-02, -6.4600e-02, -1.6740e-01,\n",
       "          2.9400e-02, -8.0600e-02,  1.1600e-02,  6.1600e-02,  3.7000e-02,\n",
       "         -3.3900e-02,  9.6900e-02,  9.1000e-03,  7.3000e-02,  1.2230e-01,\n",
       "         -9.1000e-02,  3.7300e-02,  3.6780e-01, -1.9060e-01, -5.5700e-02,\n",
       "         -1.1950e-01, -9.5000e-03,  9.4000e-02, -2.0520e-01,  9.5100e-02,\n",
       "         -1.1900e-02,  2.6000e-03, -9.2300e-02,  6.2700e-02,  2.1500e-02,\n",
       "          2.1700e-02, -6.0100e-02,  4.4000e-03,  2.2100e-02,  3.2780e-01,\n",
       "          1.3700e-01,  1.2150e-01, -9.2800e-02, -1.2340e-01, -6.6900e-02,\n",
       "          4.8500e-02, -1.6200e-02,  9.2500e-02,  7.9300e-02, -1.1100e-01,\n",
       "         -1.5070e-01, -1.1830e-01,  5.7700e-02,  6.7000e-03, -3.4010e-01,\n",
       "          2.5400e-02, -1.0870e-01,  6.6800e-02, -1.2190e-01,  1.3590e-01,\n",
       "         -3.5600e-02, -4.3600e-02, -3.7700e-02, -9.2100e-02, -1.0000e-04,\n",
       "         -6.4400e-02,  3.6000e-02, -1.2150e-01,  1.1060e-01,  4.8700e-02,\n",
       "         -2.1200e-02,  1.1900e-02,  2.1900e-02, -3.4000e-03,  1.9100e-02,\n",
       "         -5.8700e-02, -5.9200e-02, -1.7900e-01, -4.5400e-02, -1.7100e-02,\n",
       "         -7.8000e-02, -7.0900e-02, -5.5800e-02,  5.2600e-02, -4.2300e-02,\n",
       "          6.6700e-02, -5.0200e-02,  1.5980e-01, -5.9400e-02, -3.5100e-02]])"
      ]
     },
     "execution_count": 12,
     "metadata": {},
     "output_type": "execute_result"
    }
   ],
   "source": [
    "w2v.get_vector('life')"
   ]
  },
  {
   "cell_type": "code",
   "execution_count": 13,
   "metadata": {},
   "outputs": [
    {
     "data": {
      "text/plain": [
       "tensor([ 3.7164e-02, -1.9380e-03, -2.0121e-02, -6.1104e-02, -3.7734e-02,\n",
       "         5.2041e-02, -5.8140e-03, -4.0128e-02, -8.2707e-02,  5.8881e-02,\n",
       "        -2.0748e-02,  3.5454e-02, -7.7292e-02, -6.2016e-02, -1.4592e-02,\n",
       "         3.9444e-02,  4.6170e-03,  1.4193e-02, -2.5080e-02,  3.3573e-02,\n",
       "        -2.2971e-02,  3.4428e-02, -1.3053e-02,  8.6811e-02, -6.3156e-02,\n",
       "        -3.8646e-02,  1.3452e-02, -2.7132e-02,  4.0869e-02, -2.9070e-02,\n",
       "         5.1870e-03, -1.0260e-03,  9.5133e-02, -3.3060e-03,  1.1172e-02,\n",
       "        -6.2700e-04, -3.4200e-03, -8.3790e-03, -3.2034e-02, -4.4460e-03,\n",
       "         6.5436e-02,  1.2540e-02, -7.7805e-02, -8.5671e-02, -3.1578e-02,\n",
       "        -5.3295e-02,  8.2080e-03, -7.9287e-02, -1.3623e-02, -1.7670e-02,\n",
       "        -1.5675e-02,  1.4022e-02, -3.7021e-01, -1.3110e-03,  6.8970e-03,\n",
       "        -4.2636e-02, -7.1136e-02, -6.3270e-03, -8.0655e-02, -1.1172e-02,\n",
       "        -6.1389e-02, -3.8247e-02, -5.3181e-02, -2.3199e-02, -1.6017e-02,\n",
       "        -1.5532e-01,  5.8995e-02,  2.6277e-02,  1.7670e-02,  9.0630e-03,\n",
       "        -3.7905e-02, -1.2996e-02, -1.7442e-02, -9.4848e-02, -1.3167e-02,\n",
       "         1.0260e-03, -8.4360e-03,  3.4200e-03,  4.3890e-02,  7.3074e-02,\n",
       "        -1.5846e-02,  7.0053e-02, -2.8215e-02, -8.4759e-02,  1.2654e-02,\n",
       "        -8.3220e-02, -5.9280e-03, -5.6088e-02,  1.6940e-01,  5.6829e-02,\n",
       "         6.0021e-02,  4.2693e-02,  2.7930e-02, -3.6594e-02, -1.5561e-02,\n",
       "        -4.6968e-02, -4.7310e-03,  3.5511e-02,  8.5500e-04,  1.0431e-02,\n",
       "        -8.8464e-02, -3.8589e-02, -8.1567e-02, -7.6551e-02, -3.6081e-02,\n",
       "        -1.6587e-02, -1.2825e-02,  1.0659e-02, -1.0072e-01, -1.0585e-01,\n",
       "        -3.4998e-02,  3.7620e-02,  4.6854e-02,  2.9355e-02,  3.0666e-02,\n",
       "         5.2839e-02, -4.6626e-02,  8.2650e-03, -3.3630e-02, -1.4062e-01,\n",
       "         2.0520e-02,  3.8760e-03, -3.1521e-02,  2.8158e-02,  5.4093e-02,\n",
       "         1.0750e-01,  4.0641e-02,  1.6359e-02, -6.2700e-03, -6.3270e-03,\n",
       "        -2.1660e-02, -6.2700e-03,  2.6676e-02, -5.6658e-02, -2.3142e-02,\n",
       "         6.0534e-02,  6.7260e-03, -8.6241e-02,  2.5935e-02, -8.6640e-03,\n",
       "        -3.8190e-03,  2.5422e-02, -6.4410e-03,  6.0021e-02, -2.6847e-02,\n",
       "         3.1065e-02,  2.0178e-02,  7.4442e-02,  3.7449e-02,  1.8354e-02,\n",
       "         9.6501e-02,  8.6070e-03, -3.9159e-02, -7.1250e-03, -5.4549e-02,\n",
       "        -4.9590e-03,  2.7474e-02,  1.3053e-02,  2.5080e-02, -7.4670e-03,\n",
       "        -2.8329e-02,  4.0869e-02,  4.8336e-02,  6.7887e-02,  1.8696e-02,\n",
       "         6.9027e-02,  4.4517e-02, -4.6113e-02,  1.1970e-03,  9.1770e-03,\n",
       "        -8.0997e-02, -2.0862e-02, -8.6526e-02,  6.2244e-02,  5.8026e-02,\n",
       "        -2.7189e-02,  1.1810e-01, -1.6741e-01, -6.6690e-03, -9.2910e-03,\n",
       "        -5.6430e-03,  3.4884e-02, -2.5707e-02, -2.8500e-04,  1.3338e-02,\n",
       "        -5.2041e-02,  7.0680e-03, -2.1090e-02, -9.6843e-02, -4.4973e-02,\n",
       "        -4.3833e-02, -1.1178e-01,  4.3206e-02,  7.2447e-02,  3.2148e-02,\n",
       "         3.9558e-02,  4.1040e-02, -4.7196e-02,  8.7381e-02, -3.0837e-02,\n",
       "        -2.3427e-02, -3.0210e-02,  8.0085e-02,  3.1692e-02,  8.1282e-02,\n",
       "         5.0958e-02,  1.0967e-01, -8.5557e-02,  1.5276e-02,  1.0990e-01,\n",
       "         2.9868e-02, -6.7830e-03, -3.3231e-02, -7.1136e-02, -2.1261e-02,\n",
       "        -8.5500e-04, -3.4029e-02, -3.0951e-02, -3.6822e-02, -9.5418e-02,\n",
       "         1.6758e-02, -4.5942e-02,  6.6120e-03,  3.5112e-02,  2.1090e-02,\n",
       "        -1.9323e-02,  5.5233e-02,  5.1870e-03,  4.1610e-02,  6.9711e-02,\n",
       "        -5.1870e-02,  2.1261e-02,  2.0965e-01, -1.0864e-01, -3.1749e-02,\n",
       "        -6.8115e-02, -5.4150e-03,  5.3580e-02, -1.1696e-01,  5.4207e-02,\n",
       "        -6.7830e-03,  1.4820e-03, -5.2611e-02,  3.5739e-02,  1.2255e-02,\n",
       "         1.2369e-02, -3.4257e-02,  2.5080e-03,  1.2597e-02,  1.8685e-01,\n",
       "         7.8090e-02,  6.9255e-02, -5.2896e-02, -7.0338e-02, -3.8133e-02,\n",
       "         2.7645e-02, -9.2340e-03,  5.2725e-02,  4.5201e-02, -6.3270e-02,\n",
       "        -8.5899e-02, -6.7431e-02,  3.2889e-02,  3.8190e-03, -1.9386e-01,\n",
       "         1.4478e-02, -6.1959e-02,  3.8076e-02, -6.9483e-02,  7.7463e-02,\n",
       "        -2.0292e-02, -2.4852e-02, -2.1489e-02, -5.2497e-02, -5.7000e-05,\n",
       "        -3.6708e-02,  2.0520e-02, -6.9255e-02,  6.3042e-02,  2.7759e-02,\n",
       "        -1.2084e-02,  6.7830e-03,  1.2483e-02, -1.9380e-03,  1.0887e-02,\n",
       "        -3.3459e-02, -3.3744e-02, -1.0203e-01, -2.5878e-02, -9.7470e-03,\n",
       "        -4.4460e-02, -4.0413e-02, -3.1806e-02,  2.9982e-02, -2.4111e-02,\n",
       "         3.8019e-02, -2.8614e-02,  9.1086e-02, -3.3858e-02, -2.0007e-02])"
      ]
     },
     "execution_count": 13,
     "metadata": {},
     "output_type": "execute_result"
    }
   ],
   "source": [
    "w2v.get_norm_vector('life')"
   ]
  },
  {
   "cell_type": "code",
   "execution_count": 19,
   "metadata": {},
   "outputs": [
    {
     "data": {
      "text/plain": [
       "tensor(0.8553)"
      ]
     },
     "execution_count": 19,
     "metadata": {},
     "output_type": "execute_result"
    }
   ],
   "source": [
    "w2v.get_similarity('cat', 'cats')"
   ]
  },
  {
   "cell_type": "code",
   "execution_count": 22,
   "metadata": {},
   "outputs": [
    {
     "data": {
      "text/plain": [
       "(['cats',\n",
       "  'feline',\n",
       "  'kitten',\n",
       "  'Cat',\n",
       "  'felines',\n",
       "  'scaredy',\n",
       "  'dog',\n",
       "  'kitty',\n",
       "  'moggy',\n",
       "  'meow'],\n",
       " tensor([0.8553, 0.7389, 0.7354, 0.7278, 0.6911, 0.6899, 0.6873, 0.6712, 0.6699,\n",
       "         0.6599]))"
      ]
     },
     "execution_count": 22,
     "metadata": {},
     "output_type": "execute_result"
    }
   ],
   "source": [
    "w2v.get_most_similar(positive=['cat'])"
   ]
  },
  {
   "cell_type": "code",
   "execution_count": 7,
   "metadata": {},
   "outputs": [],
   "source": [
    "keys = ['cat', 'dog', 'coronavirus', 'NLP', 'food', 'China']\n",
    "\n",
    "embedding_clusters = []\n",
    "word_clusters = []\n",
    "for word in keys:\n",
    "    embeddings = []\n",
    "    words = []\n",
    "    for similar_word in w2v.get_most_similar(positive=[word], k=10)[0]:\n",
    "        words.append(similar_word)\n",
    "        embeddings.append(w2v.get_vector(similar_word).numpy())\n",
    "    embedding_clusters.append(embeddings)\n",
    "    word_clusters.append(words)"
   ]
  },
  {
   "cell_type": "code",
   "execution_count": 8,
   "metadata": {},
   "outputs": [],
   "source": [
    "embedding_clusters = np.array(embedding_clusters)\n",
    "n, m, _, k = embedding_clusters.shape\n",
    "tsne_model_en_2d = TSNE(perplexity=15, n_components=2, init='pca', n_iter=3500, random_state=32)\n",
    "embeddings_en_2d = np.array(tsne_model_en_2d.fit_transform(embedding_clusters.reshape(n * m, k))).reshape(n, m, 2)"
   ]
  },
  {
   "cell_type": "code",
   "execution_count": 9,
   "metadata": {},
   "outputs": [
    {
     "data": {
      "image/png": "[encoded data removed]",
      "text/plain": [
       "<Figure size 1152x648 with 1 Axes>"
      ]
     },
     "metadata": {
      "needs_background": "light"
     },
     "output_type": "display_data"
    }
   ],
   "source": [
    "def tsne_plot_similar_words(title, labels, embedding_clusters, word_clusters, a, filename=None):\n",
    "    plt.figure(figsize=(16, 9))\n",
    "    colors = cm.rainbow(np.linspace(0, 1, len(labels)))\n",
    "    for label, embeddings, words, color in zip(labels, embedding_clusters, word_clusters, colors):\n",
    "        x = embeddings[:, 0]\n",
    "        y = embeddings[:, 1]\n",
    "        plt.scatter(x, y, c=[color], alpha=a, label=label)\n",
    "        for i, word in enumerate(words):\n",
    "            plt.annotate(word, alpha=0.5, xy=(x[i], y[i]), xytext=(5, 2),\n",
    "                         textcoords='offset points', ha='right', va='bottom', size=8)\n",
    "    plt.legend(loc=4)\n",
    "    plt.title(title)\n",
    "    plt.grid(True)\n",
    "    if filename:\n",
    "        plt.savefig(filename, format='png', dpi=150, bbox_inches='tight')\n",
    "    plt.show()\n",
    "\n",
    "\n",
    "tsne_plot_similar_words('Similar words from FastText', keys, embeddings_en_2d, word_clusters, 0.7,\n",
    "                        'similar_words.png')"
   ]
  },
  {
   "cell_type": "code",
   "execution_count": null,
   "metadata": {},
   "outputs": [],
   "source": []
  }
 ],
 "metadata": {
  "kernelspec": {
   "display_name": "Python 3",
   "language": "python",
   "name": "python3"
  },
  "language_info": {
   "codemirror_mode": {
    "name": "ipython",
    "version": 3
   },
   "file_extension": ".py",
   "mimetype": "text/x-python",
   "name": "python",
   "nbconvert_exporter": "python",
   "pygments_lexer": "ipython3",
   "version": "3.7.4"
  }
 },
 "nbformat": 4,
 "nbformat_minor": 2
}
